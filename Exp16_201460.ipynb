{
  "nbformat": 4,
  "nbformat_minor": 0,
  "metadata": {
    "colab": {
      "name": "Exp16_201460.ipynb",
      "provenance": [],
      "collapsed_sections": []
    },
    "kernelspec": {
      "name": "python3",
      "display_name": "Python 3"
    },
    "language_info": {
      "name": "python"
    }
  },
  "cells": [
    {
      "cell_type": "markdown",
      "metadata": {
        "id": "b4xx2zApwax6"
      },
      "source": [
        "201460\n",
        "Akash Kumar Singh\n",
        "CS 38"
      ]
    },
    {
      "cell_type": "markdown",
      "metadata": {
        "id": "rIoWgWxTwgec"
      },
      "source": [
        "Write a Python Program for Linear Search without using functions."
      ]
    },
    {
      "cell_type": "code",
      "metadata": {
        "colab": {
          "base_uri": "https://localhost:8080/"
        },
        "id": "hUb2xVIMwZPT",
        "outputId": "7a7d472c-5fcd-4577-e79e-15143ce93999"
      },
      "source": [
        "n=int(input(\"Enter the number of elements in the list:\"))\n",
        "a=[]\n",
        "print(\"Enter the elements:\")\n",
        "for i in range(n):\n",
        "  element=int(input())\n",
        "  a.append(element)\n",
        "\n",
        "b=int(input(\"Enter the number to be searched for:\"))\n",
        "flag=0\n",
        "for i in range(n):\n",
        "  if a[i]==b:\n",
        "    flag=1\n",
        "    print(\"The number has been found at index \",i)\n",
        "    break\n",
        "\n",
        "if flag==0:\n",
        "  print(\"The entered number does not exist in the list.\")"
      ],
      "execution_count": 26,
      "outputs": [
        {
          "output_type": "stream",
          "name": "stdout",
          "text": [
            "Enter the number of elements in the list:5\n",
            "Enter the elements:\n",
            "4\n",
            "0\n",
            "3\n",
            "6\n",
            "8\n",
            "Enter the number to be searched for:6\n",
            "The number has been found at index  3\n"
          ]
        }
      ]
    },
    {
      "cell_type": "markdown",
      "metadata": {
        "id": "Wiqe1gtZ7AuB"
      },
      "source": [
        "Write a Python Program for Linear Search by using functions."
      ]
    },
    {
      "cell_type": "code",
      "metadata": {
        "colab": {
          "base_uri": "https://localhost:8080/"
        },
        "id": "EZKYV1bc7G86",
        "outputId": "54a7d97a-cb16-4dc4-fb1a-a93a822bae17"
      },
      "source": [
        "def create_list(n):\n",
        "  for i in range(n):\n",
        "    element=int(input())\n",
        "    a.append(element)\n",
        "\n",
        "def search(a,b):\n",
        "  for i in range(n):\n",
        "    if a[i]==b:\n",
        "      return i\n",
        "  return -1\n",
        "\n",
        "n=int(input(\"Enter the number of elements in the list:\"))\n",
        "a=[]\n",
        "create_list(n)\n",
        "b=int(input(\"Enter the number to be searched for:\"))\n",
        "result=search(a,b)\n",
        "\n",
        "if result==-1:\n",
        "  print(\"Number not found.\")\n",
        "else:\n",
        "  print(\"Number found at index \",result)"
      ],
      "execution_count": 25,
      "outputs": [
        {
          "output_type": "stream",
          "name": "stdout",
          "text": [
            "Enter the number of elements in the list:5\n",
            "4\n",
            "7\n",
            "1\n",
            "3\n",
            "8\n",
            "Enter the number to be searched for:2\n",
            "Number not found.\n"
          ]
        }
      ]
    }
  ]
}