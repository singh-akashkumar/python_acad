{
  "nbformat": 4,
  "nbformat_minor": 0,
  "metadata": {
    "colab": {
      "name": "201460_Experiment_2.ipynb",
      "provenance": [],
      "collapsed_sections": []
    },
    "kernelspec": {
      "name": "python3",
      "display_name": "Python 3"
    },
    "language_info": {
      "name": "python"
    }
  },
  "cells": [
    {
      "cell_type": "markdown",
      "metadata": {
        "id": "mj-2tkgixF_t"
      },
      "source": [
        "201460\n",
        "Akash Kumar Singh\n",
        "CS 38"
      ]
    },
    {
      "cell_type": "markdown",
      "metadata": {
        "id": "yyRmQNnM1dHe"
      },
      "source": [
        "1. Write a Python program to display the current date and time."
      ]
    },
    {
      "cell_type": "code",
      "metadata": {
        "colab": {
          "base_uri": "https://localhost:8080/"
        },
        "id": "SRHtsX0IxAmv",
        "outputId": "56686ce6-777d-4af9-cd67-5aa67fe7fe1c"
      },
      "source": [
        "import datetime\n",
        "a=datetime.datetime.now()\n",
        "print(a)\n",
        "print(a.strftime(\"%d-%m-%Y %H:%M:%S\"))\n",
        "print(a.strftime(\"%d-%m-%y %H:%M:%S\"))\n",
        "print(a.strftime(\"%d-%b-%Y %H:%M:%S\"))\n",
        "print(a.strftime(\"%d-%B-%Y %H:%M:%S\"))\n",
        "print(a.strftime(\"%a-%m-%Y %H:%M:%S\"))\n",
        "print(a.strftime(\"%A-%m-%Y %H:%M:%S\"))\n",
        "print(a.strftime(\"%d-%m-%Y %I:%M:%S\"))\n",
        "print(a.strftime(\"%d-%m-%Y %I:%M:%S %p\"))\n",
        "print(a.strftime(\"%d-%m-%Y %I:%M:%S.%f %p\"))"
      ],
      "execution_count": 3,
      "outputs": [
        {
          "output_type": "stream",
          "text": [
            "2021-08-25 10:22:36.336368\n",
            "25-08-2021 10:22:36\n",
            "25-08-21 10:22:36\n",
            "25-Aug-2021 10:22:36\n",
            "25-August-2021 10:22:36\n",
            "Wed-08-2021 10:22:36\n",
            "Wednesday-08-2021 10:22:36\n",
            "25-08-2021 10:22:36\n",
            "25-08-2021 10:22:36 AM\n",
            "25-08-2021 10:22:36.336368 AM\n"
          ],
          "name": "stdout"
        }
      ]
    },
    {
      "cell_type": "markdown",
      "metadata": {
        "id": "IJhUx4Dc1mF1"
      },
      "source": [
        "2. Write a Python program which accepts the radius of a circle from the user and compute the circumference."
      ]
    },
    {
      "cell_type": "code",
      "metadata": {
        "colab": {
          "base_uri": "https://localhost:8080/"
        },
        "id": "VnGvqlm31qoT",
        "outputId": "ee1731fb-5aa3-42e6-b2be-540f1bb66322"
      },
      "source": [
        "r=int(input(\"Enter the radius of the circle:\"))\n",
        "c=2*(22/7)*r\n",
        "print(\"The circumference of the circle is \",c)"
      ],
      "execution_count": 4,
      "outputs": [
        {
          "output_type": "stream",
          "text": [
            "Enter the radius of the circle:5\n",
            "The circumference of the circle is  31.428571428571427\n"
          ],
          "name": "stdout"
        }
      ]
    }
  ]
}