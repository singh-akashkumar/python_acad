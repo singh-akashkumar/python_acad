{
  "nbformat": 4,
  "nbformat_minor": 0,
  "metadata": {
    "colab": {
      "name": "Tutorial3_201460.ipynb",
      "provenance": [],
      "collapsed_sections": []
    },
    "kernelspec": {
      "name": "python3",
      "display_name": "Python 3"
    },
    "language_info": {
      "name": "python"
    }
  },
  "cells": [
    {
      "cell_type": "markdown",
      "metadata": {
        "id": "9CFc9CQ9slM2"
      },
      "source": [
        "201460\n",
        "Akash Kumar Singh\n",
        "CS 38"
      ]
    },
    {
      "cell_type": "code",
      "metadata": {
        "colab": {
          "base_uri": "https://localhost:8080/"
        },
        "id": "vKvzkwzAsegu",
        "outputId": "2988b9c7-4f93-4900-bd10-580b07ff3d87"
      },
      "source": [
        "n=int(input(\"Enter the number of rows+1:\"))\n",
        "\n",
        "for i in range(n):\n",
        "  for j in range(i):\n",
        "    print(i,end=\" \")\n",
        "  print(\"\")"
      ],
      "execution_count": 23,
      "outputs": [
        {
          "output_type": "stream",
          "name": "stdout",
          "text": [
            "Enter the number of rows+1:6\n",
            "\n",
            "1 \n",
            "2 2 \n",
            "3 3 3 \n",
            "4 4 4 4 \n",
            "5 5 5 5 5 \n"
          ]
        }
      ]
    },
    {
      "cell_type": "code",
      "metadata": {
        "colab": {
          "base_uri": "https://localhost:8080/"
        },
        "id": "5vUxRuhFt91D",
        "outputId": "0ed5ffce-3273-4deb-e25a-5e33d4e397a1"
      },
      "source": [
        "n=int(input(\"Enter the number of rows+1:\"))\n",
        "\n",
        "for i in range(1,n):\n",
        "  for j in range(n,i,-1):\n",
        "    print(i,end=\" \")\n",
        "  print(\"\")"
      ],
      "execution_count": 24,
      "outputs": [
        {
          "output_type": "stream",
          "name": "stdout",
          "text": [
            "Enter the number of rows+1:6\n",
            "1 1 1 1 1 \n",
            "2 2 2 2 \n",
            "3 3 3 \n",
            "4 4 \n",
            "5 \n"
          ]
        }
      ]
    },
    {
      "cell_type": "code",
      "metadata": {
        "colab": {
          "base_uri": "https://localhost:8080/"
        },
        "id": "4vvF6iyHwgNo",
        "outputId": "160256d3-3f87-4415-b0bb-4a7b689e9de2"
      },
      "source": [
        "n=int(input(\"Enter the number of rows+1:\"))\n",
        "\n",
        "for i in range(1,n):\n",
        "  for j in range(1,i+1):\n",
        "    print(j,end=\" \")\n",
        "  print(\"\")"
      ],
      "execution_count": 25,
      "outputs": [
        {
          "output_type": "stream",
          "name": "stdout",
          "text": [
            "Enter the number of rows+1:6\n",
            "1 \n",
            "1 2 \n",
            "1 2 3 \n",
            "1 2 3 4 \n",
            "1 2 3 4 5 \n"
          ]
        }
      ]
    },
    {
      "cell_type": "code",
      "metadata": {
        "colab": {
          "base_uri": "https://localhost:8080/"
        },
        "id": "wgIhFkW141Cs",
        "outputId": "cdbb2446-cce6-43e7-b5a8-3e951d30d5ad"
      },
      "source": [
        "n=int(input(\"Enter the number of rows+1:\"))\n",
        "k=n-1\n",
        "for i in range(1,n):\n",
        "  for j in range(n,i,-1):\n",
        "    print(k,end=\" \")\n",
        "  k-=1\n",
        "  print(\"\")"
      ],
      "execution_count": 38,
      "outputs": [
        {
          "output_type": "stream",
          "name": "stdout",
          "text": [
            "Enter the number of rows+1:6\n",
            "5 5 5 5 5 \n",
            "4 4 4 4 \n",
            "3 3 3 \n",
            "2 2 \n",
            "1 \n"
          ]
        }
      ]
    },
    {
      "cell_type": "code",
      "metadata": {
        "colab": {
          "base_uri": "https://localhost:8080/"
        },
        "id": "iburN_ax1kSS",
        "outputId": "7e04efc6-7903-4c3e-e199-ac5dfa7f7838"
      },
      "source": [
        "n=int(input(\"Enter the number of rows+1:\"))\n",
        "\n",
        "for i in range(1,n):\n",
        "  for j in range(n,i,-1):\n",
        "    print(n-1,end=\" \")\n",
        "  print(\"\")"
      ],
      "execution_count": 33,
      "outputs": [
        {
          "output_type": "stream",
          "name": "stdout",
          "text": [
            "Enter the number of rows+1:6\n",
            "5 5 5 5 5 \n",
            "5 5 5 5 \n",
            "5 5 5 \n",
            "5 5 \n",
            "5 \n"
          ]
        }
      ]
    }
  ]
}