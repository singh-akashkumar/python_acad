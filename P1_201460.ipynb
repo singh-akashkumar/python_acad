{
  "nbformat": 4,
  "nbformat_minor": 0,
  "metadata": {
    "colab": {
      "name": "P1_201460.ipynb",
      "provenance": [],
      "collapsed_sections": []
    },
    "kernelspec": {
      "name": "python3",
      "display_name": "Python 3"
    },
    "language_info": {
      "name": "python"
    }
  },
  "cells": [
    {
      "cell_type": "markdown",
      "metadata": {
        "id": "zG_U3bgVBfz3"
      },
      "source": [
        "201460\n",
        "Akash Kumar Singh\n",
        "CS 38"
      ]
    },
    {
      "cell_type": "code",
      "metadata": {
        "colab": {
          "base_uri": "https://localhost:8080/"
        },
        "id": "UGe-5-OPBb3D",
        "outputId": "429baa9d-e803-4dde-9668-97a82382d1c5"
      },
      "source": [
        "from numpy import *\n",
        "a=array([[1,2,3,4],[5,6,7,8],[9,10,11,12],[13,14,15,16]])\n",
        "print(\"The matrix is:\")\n",
        "print(a)\n",
        "print()\n",
        "print()\n",
        "print(\"The required output is:\")\n",
        "for i in range(len(a)):\n",
        "  for j in range(len(a[0])):\n",
        "    if (i==0 or i==len(a)-1):\n",
        "      print(a[i][j],end=\" \")\n",
        "    elif (abs(i-j)==1 and j!=0 and j!=len(a)-1):\n",
        "      print(a[i][j],end=\" \")"
      ],
      "execution_count": 15,
      "outputs": [
        {
          "output_type": "stream",
          "name": "stdout",
          "text": [
            "The matrix is:\n",
            "[[ 1  2  3  4]\n",
            " [ 5  6  7  8]\n",
            " [ 9 10 11 12]\n",
            " [13 14 15 16]]\n",
            "\n",
            "\n",
            "The required output is:\n",
            "1 2 3 4 7 10 13 14 15 16 "
          ]
        }
      ]
    }
  ]
}