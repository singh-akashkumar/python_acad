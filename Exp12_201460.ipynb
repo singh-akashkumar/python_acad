{
  "nbformat": 4,
  "nbformat_minor": 0,
  "metadata": {
    "colab": {
      "name": "Exp12_201460.ipynb",
      "provenance": [],
      "collapsed_sections": []
    },
    "kernelspec": {
      "name": "python3",
      "display_name": "Python 3"
    },
    "language_info": {
      "name": "python"
    }
  },
  "cells": [
    {
      "cell_type": "markdown",
      "metadata": {
        "id": "w_oV-_UAP_FH"
      },
      "source": [
        "201460\n",
        "Akash Kumar Singh\n",
        "CS 38"
      ]
    },
    {
      "cell_type": "markdown",
      "metadata": {
        "id": "Pd5Tph4yQDGf"
      },
      "source": [
        "Write a Python Program to show the usage of multiple decorators to a single function."
      ]
    },
    {
      "cell_type": "code",
      "metadata": {
        "colab": {
          "base_uri": "https://localhost:8080/"
        },
        "id": "Bk4DNKPgPyxX",
        "outputId": "c6a47c10-0b45-4d7a-b86a-a5f8d5423a0b"
      },
      "source": [
        "def decor1(func):\n",
        "    def inner():\n",
        "        x = func()\n",
        "        return x * x\n",
        "    return inner\n",
        "  \n",
        "def decor(func):\n",
        "    def inner():\n",
        "        x = func()\n",
        "        return 2 * x\n",
        "    return inner\n",
        "  \n",
        "@decor1\n",
        "@decor\n",
        "def num():      #first num() is passed to decor and then value returned is passed to decor1\n",
        "    return 10\n",
        "  \n",
        "print(num())"
      ],
      "execution_count": 2,
      "outputs": [
        {
          "output_type": "stream",
          "name": "stdout",
          "text": [
            "400\n"
          ]
        }
      ]
    }
  ]
}