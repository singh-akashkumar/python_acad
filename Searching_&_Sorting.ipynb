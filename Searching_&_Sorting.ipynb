{
  "nbformat": 4,
  "nbformat_minor": 0,
  "metadata": {
    "colab": {
      "name": "Searching & Sorting.ipynb",
      "provenance": [],
      "collapsed_sections": []
    },
    "kernelspec": {
      "name": "python3",
      "display_name": "Python 3"
    },
    "language_info": {
      "name": "python"
    }
  },
  "cells": [
    {
      "cell_type": "markdown",
      "metadata": {
        "id": "1RWSby6VwV62"
      },
      "source": [
        "Linear Search"
      ]
    },
    {
      "cell_type": "code",
      "metadata": {
        "colab": {
          "base_uri": "https://localhost:8080/"
        },
        "id": "BoCWDZF-s3p1",
        "outputId": "e3cae39b-e0b9-4808-f0b7-dae217d2992b"
      },
      "source": [
        "a=[]\n",
        "n=int(input(\"Enter the number of elements:\"))\n",
        "print(\"Enter the elements:\")\n",
        "for i in range(n):\n",
        "  element=int(input())\n",
        "  a.append(element)\n",
        "\n",
        "flag=0\n",
        "num=int(input(\"Enter the number to be searched for:\"))\n",
        "for i in range(n):\n",
        "  if num==a[i]:\n",
        "    print(\"Number found at index\",i)\n",
        "    flag=1\n",
        "    break\n",
        "\n",
        "if flag==0:\n",
        "  print(\"Number not found.\")\n"
      ],
      "execution_count": null,
      "outputs": [
        {
          "output_type": "stream",
          "name": "stdout",
          "text": [
            "Enter the number of elements:5\n",
            "Enter the elements:\n",
            "43\n",
            "99\n",
            "12\n",
            "34\n",
            "76\n",
            "Enter the number to be searched for:12\n",
            "Number found at index 2\n"
          ]
        }
      ]
    },
    {
      "cell_type": "markdown",
      "metadata": {
        "id": "zIBhT3VvynsF"
      },
      "source": [
        "Binary Search"
      ]
    },
    {
      "cell_type": "code",
      "metadata": {
        "colab": {
          "base_uri": "https://localhost:8080/"
        },
        "id": "As4AtHwXypfb",
        "outputId": "117e344a-d757-4095-c9d2-6409cb48335e"
      },
      "source": [
        "b=[]\n",
        "n=int(input(\"Enter the number of elements:\"))\n",
        "print(\"Enter the elements:\")\n",
        "for i in range(n):\n",
        "  element=int(input())\n",
        "  b.append(element)\n",
        "\n",
        "b.sort()\n",
        "print(\"The sorted list is\",b)\n",
        "flag=0\n",
        "low=0\n",
        "high=len(b)-1\n",
        "num=int(input(\"Enter the number to be searched:\"))\n",
        "while(low<=high):\n",
        "  mid=(low+high)//2\n",
        "  if b[mid]==num:\n",
        "    flag=1\n",
        "    print(\"The number is found at index\",mid)\n",
        "    break\n",
        "  elif b[mid]>num:\n",
        "    high=mid-1\n",
        "  elif b[mid]<num:\n",
        "    low=mid+1\n",
        "\n",
        "if flag==0:\n",
        "  print(\"Number not found.\")"
      ],
      "execution_count": null,
      "outputs": [
        {
          "output_type": "stream",
          "name": "stdout",
          "text": [
            "Enter the number of elements:5\n",
            "Enter the elements:\n",
            "101\n",
            "65\n",
            "21\n",
            "89\n",
            "34\n",
            "The sorted list is [21, 34, 65, 89, 101]\n",
            "Enter the number to be searched:89\n",
            "The number is found at index 3\n"
          ]
        }
      ]
    },
    {
      "cell_type": "markdown",
      "metadata": {
        "id": "8zVIQgw-I8At"
      },
      "source": [
        "Selection Sort"
      ]
    },
    {
      "cell_type": "code",
      "metadata": {
        "id": "tiguSlS5I-b5",
        "colab": {
          "base_uri": "https://localhost:8080/"
        },
        "outputId": "07c9bfa8-8a6a-42ad-8ffa-fa37eb7291ef"
      },
      "source": [
        "c=[]\n",
        "n=int(input(\"Enter the number of elements:\"))\n",
        "print(\"Enter the elements:\")\n",
        "for i in range(n):\n",
        "  element=int(input())\n",
        "  c.append(element)\n",
        "\n",
        "for i in range(len(c)):\n",
        "  smallest=min(c[i:])\n",
        "  min_index=c.index(smallest)\n",
        "  c[i],c[min_index]=c[min_index],c[i]\n",
        "\n",
        "print(\"The sorted list is\",c)"
      ],
      "execution_count": null,
      "outputs": [
        {
          "output_type": "stream",
          "name": "stdout",
          "text": [
            "Enter the number of elements:5\n",
            "Enter the elements:\n",
            "98\n",
            "21\n",
            "45\n",
            "33\n",
            "87\n",
            "The sorted list is [21, 33, 45, 87, 98]\n"
          ]
        }
      ]
    },
    {
      "cell_type": "markdown",
      "metadata": {
        "id": "nAFmmhSPQ8uy"
      },
      "source": [
        "Insertion Sort"
      ]
    },
    {
      "cell_type": "code",
      "metadata": {
        "colab": {
          "base_uri": "https://localhost:8080/"
        },
        "id": "zmeHwI35Q_PI",
        "outputId": "a108376d-0fab-49c7-b75f-fa077b85ad97"
      },
      "source": [
        "d=[]\n",
        "n=int(input(\"Enter the number of elements:\"))\n",
        "print(\"Enter the elements:\")\n",
        "for i in range(n):\n",
        "  element=int(input())\n",
        "  d.append(element)\n",
        "\n",
        "for i in d:\n",
        "  j=d.index(i)\n",
        "  while j>0:\n",
        "      if d[j-1]>d[j]:\n",
        "        d[j-1],d[j]=d[j],d[j-1]\n",
        "      else:\n",
        "        break\n",
        "      j=j-1\n",
        "\n",
        "print(\"The sorted list is\",d)"
      ],
      "execution_count": null,
      "outputs": [
        {
          "output_type": "stream",
          "name": "stdout",
          "text": [
            "Enter the number of elements:5\n",
            "Enter the elements:\n",
            "99\n",
            "45\n",
            "87\n",
            "2\n",
            "64\n",
            "The sorted list is [2, 45, 64, 87, 99]\n"
          ]
        }
      ]
    },
    {
      "cell_type": "markdown",
      "metadata": {
        "id": "-4RznBJaXa1F"
      },
      "source": [
        "Merge Sort"
      ]
    },
    {
      "cell_type": "code",
      "metadata": {
        "id": "55uLjmxSkLN4",
        "colab": {
          "base_uri": "https://localhost:8080/"
        },
        "outputId": "ea9fb593-bba9-435b-c907-f80a061b35e8"
      },
      "source": [
        "def mergesort(e):\n",
        "  if len(e)>1:\n",
        "    mid=len(e)//2\n",
        "    lefthalf=e[:mid]\n",
        "    righthalf=e[mid:]\n",
        "    mergesort(lefthalf)\n",
        "    mergesort(righthalf)\n",
        "    i=0\n",
        "    j=0\n",
        "    k=0\n",
        "    while (i<len(lefthalf) and j<len(righthalf)):\n",
        "      if lefthalf[i]<righthalf[j]:\n",
        "        e[k]=lefthalf[i]\n",
        "        i=i+1\n",
        "      else:\n",
        "        e[k]=righthalf[j]\n",
        "        j=j+1\n",
        "      k=k+1\n",
        "    while i<len(lefthalf):\n",
        "      e[k]=lefthalf[i]\n",
        "      i=i+1\n",
        "      k=k+1\n",
        "    while j<len(righthalf):\n",
        "      e[k]=righthalf[j]\n",
        "      j=j+1\n",
        "      k=k+1\n",
        "\n",
        "n=int(input(\"Enter the number of elements:\"))\n",
        "e=[]\n",
        "for i in range(n):\n",
        "  e.append(int(input(\"Enter the %dth element\"%i)))\n",
        "\n",
        "mergesort(e)\n",
        "print(\"The sorted list is\",e)"
      ],
      "execution_count": 3,
      "outputs": [
        {
          "output_type": "stream",
          "name": "stdout",
          "text": [
            "Enter the number of elements:5\n",
            "Enter the 0th element45\n",
            "Enter the 1th element11\n",
            "Enter the 2th element90\n",
            "Enter the 3th element65\n",
            "Enter the 4th element23\n",
            "The sorted list is [11, 23, 45, 65, 90]\n"
          ]
        }
      ]
    }
  ]
}