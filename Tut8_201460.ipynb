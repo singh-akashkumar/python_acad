{
  "nbformat": 4,
  "nbformat_minor": 0,
  "metadata": {
    "colab": {
      "name": "Tut8_201460.ipynb",
      "provenance": [],
      "collapsed_sections": []
    },
    "kernelspec": {
      "name": "python3",
      "display_name": "Python 3"
    },
    "language_info": {
      "name": "python"
    }
  },
  "cells": [
    {
      "cell_type": "markdown",
      "metadata": {
        "id": "NO1Ks54bLgGu"
      },
      "source": [
        "201460\n",
        "Akash Kumar Singh\n",
        "CS 38"
      ]
    },
    {
      "cell_type": "markdown",
      "metadata": {
        "id": "7JrMX2lhLogv"
      },
      "source": [
        "1. try…except"
      ]
    },
    {
      "cell_type": "code",
      "metadata": {
        "colab": {
          "base_uri": "https://localhost:8080/"
        },
        "id": "huv5x3FSLMvh",
        "outputId": "feaa9856-1b0e-40bb-baa3-94581d1460f3"
      },
      "source": [
        " try:\n",
        "  print(a)\n",
        " except:\n",
        "   print(\"There is some error.\")"
      ],
      "execution_count": null,
      "outputs": [
        {
          "output_type": "stream",
          "name": "stdout",
          "text": [
            "There is some error.\n"
          ]
        }
      ]
    },
    {
      "cell_type": "markdown",
      "metadata": {
        "id": "QKELDAo8MQAO"
      },
      "source": [
        "2. try…except…inbuilt exception"
      ]
    },
    {
      "cell_type": "code",
      "metadata": {
        "colab": {
          "base_uri": "https://localhost:8080/"
        },
        "id": "BL5Y5HLtMSlQ",
        "outputId": "aaed73b9-e1c1-48a0-bee3-5a9df7282b3a"
      },
      "source": [
        "b=int(input(\"Enter the dividend:\"))\n",
        "c=int(input(\"Enter the divisor:\"))\n",
        "try:\n",
        "  print(\"The result of the division is\",b/c)\n",
        "except ZeroDivisionError:\n",
        "  print(\"The divisor cannot be Zero!!!\")"
      ],
      "execution_count": null,
      "outputs": [
        {
          "output_type": "stream",
          "name": "stdout",
          "text": [
            "Enter the dividend:34\n",
            "Enter the divisor:0\n",
            "The divisor cannot be Zero!!!\n"
          ]
        }
      ]
    },
    {
      "cell_type": "markdown",
      "metadata": {
        "id": "8VjqDyMwTLP_"
      },
      "source": [
        "3. try… except…else"
      ]
    },
    {
      "cell_type": "code",
      "metadata": {
        "colab": {
          "base_uri": "https://localhost:8080/"
        },
        "id": "hfJHSEpkTMAB",
        "outputId": "c44c6a3e-c3b2-4a5d-934d-30981891c07d"
      },
      "source": [
        "s='My name is Akash Kumar Singh.'\n",
        "try:\n",
        "  print(s)\n",
        "except:\n",
        "  print(\"There is some error.\")\n",
        "else:\n",
        "  print(\"There is no error.\")"
      ],
      "execution_count": null,
      "outputs": [
        {
          "output_type": "stream",
          "name": "stdout",
          "text": [
            "My name is Akash Kumar Singh.\n",
            "There is no error.\n"
          ]
        }
      ]
    },
    {
      "cell_type": "markdown",
      "metadata": {
        "id": "_lYGjkObT_4a"
      },
      "source": [
        "4. try…except…else….finally"
      ]
    },
    {
      "cell_type": "code",
      "metadata": {
        "colab": {
          "base_uri": "https://localhost:8080/"
        },
        "id": "avg83EnAT_CF",
        "outputId": "e96b74ba-7d2a-41ab-eacd-c2fb61ff1dbc"
      },
      "source": [
        "d=9\n",
        "try:\n",
        "  print(d/f)\n",
        "except:\n",
        "  print(\"There is some error.\")\n",
        "else:\n",
        "  print(\"There is no error.\")\n",
        "finally:\n",
        "  print(\"Program finished.\")"
      ],
      "execution_count": null,
      "outputs": [
        {
          "output_type": "stream",
          "name": "stdout",
          "text": [
            "There is some error.\n",
            "Program finished.\n"
          ]
        }
      ]
    },
    {
      "cell_type": "markdown",
      "metadata": {
        "id": "-KnMKN9Nqinr"
      },
      "source": [
        "5. try.. except..except.."
      ]
    },
    {
      "cell_type": "code",
      "metadata": {
        "colab": {
          "base_uri": "https://localhost:8080/"
        },
        "id": "9rMQO21BYufB",
        "outputId": "bd74de59-84e6-489a-d766-20364f02e335"
      },
      "source": [
        "g=7\n",
        "h=0\n",
        "try:\n",
        "  print(g/i)\n",
        "except NameError:\n",
        "  print(\"A variable is not defined.\")\n",
        "except:\n",
        "  print(\"There is some other error.\")"
      ],
      "execution_count": null,
      "outputs": [
        {
          "output_type": "stream",
          "name": "stdout",
          "text": [
            "A variable is not defined.\n"
          ]
        }
      ]
    },
    {
      "cell_type": "markdown",
      "metadata": {
        "id": "HSjVHn6XZNNi"
      },
      "source": [
        "6. try…raise..except..\n"
      ]
    },
    {
      "cell_type": "code",
      "metadata": {
        "colab": {
          "base_uri": "https://localhost:8080/",
          "height": 249
        },
        "id": "kmpCev6xbfD_",
        "outputId": "659edf59-a820-426b-a145-b6efabc9bfa3"
      },
      "source": [
        "x=-6\n",
        "if x<0:\n",
        "  raise Exception(\"Value of x should not be less than zero.\")\n",
        "try:\n",
        "  print(x)\n",
        "except:\n",
        "  print(\"There is some error.\")"
      ],
      "execution_count": null,
      "outputs": [
        {
          "output_type": "error",
          "ename": "Exception",
          "evalue": "ignored",
          "traceback": [
            "\u001b[0;31m---------------------------------------------------------------------------\u001b[0m",
            "\u001b[0;31mException\u001b[0m                                 Traceback (most recent call last)",
            "\u001b[0;32m<ipython-input-49-c5a36c2a4dda>\u001b[0m in \u001b[0;36m<module>\u001b[0;34m()\u001b[0m\n\u001b[1;32m      1\u001b[0m \u001b[0mx\u001b[0m\u001b[0;34m=\u001b[0m\u001b[0;34m-\u001b[0m\u001b[0;36m6\u001b[0m\u001b[0;34m\u001b[0m\u001b[0;34m\u001b[0m\u001b[0m\n\u001b[1;32m      2\u001b[0m \u001b[0;32mif\u001b[0m \u001b[0mx\u001b[0m\u001b[0;34m<\u001b[0m\u001b[0;36m0\u001b[0m\u001b[0;34m:\u001b[0m\u001b[0;34m\u001b[0m\u001b[0;34m\u001b[0m\u001b[0m\n\u001b[0;32m----> 3\u001b[0;31m   \u001b[0;32mraise\u001b[0m \u001b[0mException\u001b[0m\u001b[0;34m(\u001b[0m\u001b[0;34m\"Value of x should not be less than zero.\"\u001b[0m\u001b[0;34m)\u001b[0m\u001b[0;34m\u001b[0m\u001b[0;34m\u001b[0m\u001b[0m\n\u001b[0m\u001b[1;32m      4\u001b[0m \u001b[0;32mtry\u001b[0m\u001b[0;34m:\u001b[0m\u001b[0;34m\u001b[0m\u001b[0;34m\u001b[0m\u001b[0m\n\u001b[1;32m      5\u001b[0m   \u001b[0mprint\u001b[0m\u001b[0;34m(\u001b[0m\u001b[0mx\u001b[0m\u001b[0;34m)\u001b[0m\u001b[0;34m\u001b[0m\u001b[0;34m\u001b[0m\u001b[0m\n",
            "\u001b[0;31mException\u001b[0m: Value of x should not be less than zero."
          ]
        }
      ]
    }
  ]
}