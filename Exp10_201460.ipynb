{
  "nbformat": 4,
  "nbformat_minor": 0,
  "metadata": {
    "colab": {
      "name": "Exp10_201460.ipynb",
      "provenance": [],
      "collapsed_sections": []
    },
    "kernelspec": {
      "name": "python3",
      "display_name": "Python 3"
    },
    "language_info": {
      "name": "python"
    }
  },
  "cells": [
    {
      "cell_type": "markdown",
      "metadata": {
        "id": "O1i_cJFJRUjK"
      },
      "source": [
        "201460\n",
        "Akash Kumar Singh\n",
        "CS 38"
      ]
    },
    {
      "cell_type": "markdown",
      "metadata": {
        "id": "YC0CJ02dRYxU"
      },
      "source": [
        "Print the patterns given in the attached document using loops."
      ]
    },
    {
      "cell_type": "code",
      "metadata": {
        "colab": {
          "base_uri": "https://localhost:8080/"
        },
        "id": "jgBPkDYURRhs",
        "outputId": "f914a66b-9356-4459-c0e9-e50b30b431ed"
      },
      "source": [
        "str=['P','y','t','h','o','n']\n",
        "\n",
        "for i in range(6):\n",
        "  for j in range(i+1):\n",
        "    print(str[j],end=\"\")\n",
        "  print()"
      ],
      "execution_count": 1,
      "outputs": [
        {
          "output_type": "stream",
          "name": "stdout",
          "text": [
            "P\n",
            "Py\n",
            "Pyt\n",
            "Pyth\n",
            "Pytho\n",
            "Python\n"
          ]
        }
      ]
    },
    {
      "cell_type": "code",
      "metadata": {
        "colab": {
          "base_uri": "https://localhost:8080/"
        },
        "id": "YjMQ2AKUShWM",
        "outputId": "695d0668-271d-486a-daa8-7127a8375502"
      },
      "source": [
        "for i in range(1,11):\n",
        "  for j in range(1,i+1):\n",
        "    print(i*j,end=\" \")\n",
        "  print()"
      ],
      "execution_count": 7,
      "outputs": [
        {
          "output_type": "stream",
          "name": "stdout",
          "text": [
            "1 \n",
            "2 4 \n",
            "3 6 9 \n",
            "4 8 12 16 \n",
            "5 10 15 20 25 \n",
            "6 12 18 24 30 36 \n",
            "7 14 21 28 35 42 49 \n",
            "8 16 24 32 40 48 56 64 \n",
            "9 18 27 36 45 54 63 72 81 \n",
            "10 20 30 40 50 60 70 80 90 100 \n"
          ]
        }
      ]
    },
    {
      "cell_type": "code",
      "metadata": {
        "colab": {
          "base_uri": "https://localhost:8080/"
        },
        "id": "Wi1FwFGlSIdp",
        "outputId": "eabf7620-2574-4227-f823-64f286fdd619"
      },
      "source": [
        "for i in range(7):\n",
        "  for j in range(i+1):\n",
        "    print(i*j,end=\" \")\n",
        "  print()"
      ],
      "execution_count": 5,
      "outputs": [
        {
          "output_type": "stream",
          "name": "stdout",
          "text": [
            "0 \n",
            "0 1 \n",
            "0 2 4 \n",
            "0 3 6 9 \n",
            "0 4 8 12 16 \n",
            "0 5 10 15 20 25 \n",
            "0 6 12 18 24 30 36 \n"
          ]
        }
      ]
    }
  ]
}