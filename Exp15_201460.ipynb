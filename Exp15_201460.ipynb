{
  "nbformat": 4,
  "nbformat_minor": 0,
  "metadata": {
    "colab": {
      "name": "Exp15_201460.ipynb",
      "provenance": [],
      "collapsed_sections": []
    },
    "kernelspec": {
      "name": "python3",
      "display_name": "Python 3"
    },
    "language_info": {
      "name": "python"
    }
  },
  "cells": [
    {
      "cell_type": "markdown",
      "metadata": {
        "id": "kDJ4KjubBzwn"
      },
      "source": [
        "201460\n",
        "Akash Kumar Singh\n",
        "CS 38"
      ]
    },
    {
      "cell_type": "markdown",
      "metadata": {
        "id": "SqUJ8xr4B5WX"
      },
      "source": [
        "1.  Write a NumPy program to reverse an array (first element becomes last)."
      ]
    },
    {
      "cell_type": "code",
      "metadata": {
        "colab": {
          "base_uri": "https://localhost:8080/"
        },
        "id": "KoAKARNNBeQ3",
        "outputId": "1a4b377d-e791-4f71-b6bc-d62f5f2a58b5"
      },
      "source": [
        "from numpy import *\n",
        "\n",
        "a=array([1,2,3,4,5])\n",
        "c=flipud(a)\n",
        "print(\"The reversed array by using In-Built function is \",c)\n",
        "\n",
        "#Second method\n",
        "b=a[::-1]\n",
        "print(\"The reversed array without using in-built function is \",b)"
      ],
      "execution_count": 68,
      "outputs": [
        {
          "output_type": "stream",
          "name": "stdout",
          "text": [
            "The reversed array by using In-Built function is  [5 4 3 2 1]\n",
            "The reversed array without using in-built function is  [5 4 3 2 1]\n"
          ]
        }
      ]
    },
    {
      "cell_type": "markdown",
      "metadata": {
        "id": "dzKO35kbC7kg"
      },
      "source": [
        "2.   Write a NumPy program to create a 2-dimensional array of size 2 x 3 also print the shape, type and data type of the array."
      ]
    },
    {
      "cell_type": "code",
      "metadata": {
        "colab": {
          "base_uri": "https://localhost:8080/"
        },
        "id": "fGsF5r0uC-28",
        "outputId": "feceb011-8f04-4b0f-d6b8-a3836f9489d6"
      },
      "source": [
        "from numpy import *\n",
        "\n",
        "a=array([[1,2,3],[4,5,6]])\n",
        "print(\"The array entered is \",a)\n",
        "print(\"The shape of the array is \",a.shape)\n",
        "print(\"The size of the array is \",a.size)\n",
        "print(\"The type of the array is \",type(a))\n",
        "print(\"The data type of the array is \",a.dtype)"
      ],
      "execution_count": 9,
      "outputs": [
        {
          "output_type": "stream",
          "name": "stdout",
          "text": [
            "The array entered is  [[1 2 3]\n",
            " [4 5 6]]\n",
            "The shape of the array is  (2, 3)\n",
            "The size of the array is  6\n",
            "The type of the array is  <class 'numpy.ndarray'>\n",
            "The data type of the array is  int64\n"
          ]
        }
      ]
    },
    {
      "cell_type": "markdown",
      "metadata": {
        "id": "whUBiR94E2HB"
      },
      "source": [
        "3.   Write a NumPy program to create a 2-D array with ones on the diagonal and zeros elsewhere."
      ]
    },
    {
      "cell_type": "code",
      "metadata": {
        "colab": {
          "base_uri": "https://localhost:8080/"
        },
        "id": "gWAIcy87E633",
        "outputId": "1cd1700f-9f78-444b-b912-96e8c9e6e702"
      },
      "source": [
        "from numpy import *\n",
        "\n",
        "a=eye(4,dtype=int)\n",
        "print(\"By using In-Built Function:\")\n",
        "print(a)\n",
        "\n",
        "# Without using In-Built Function\n",
        "print()\n",
        "print()\n",
        "print(\"Without using In-Built Function:\")\n",
        "b=zeros([4,4],int)\n",
        "for i in range(len(b)):\n",
        "  for j in range(len(b[0])):\n",
        "    if i==j:\n",
        "      b[i][j]=ones(1,int)\n",
        "print(b)"
      ],
      "execution_count": 28,
      "outputs": [
        {
          "output_type": "stream",
          "name": "stdout",
          "text": [
            "By using In-Built Function:\n",
            "[[1 0 0 0]\n",
            " [0 1 0 0]\n",
            " [0 0 1 0]\n",
            " [0 0 0 1]]\n",
            "\n",
            "\n",
            "Without using In-Built Function:\n",
            "[[1 0 0 0]\n",
            " [0 1 0 0]\n",
            " [0 0 1 0]\n",
            " [0 0 0 1]]\n"
          ]
        }
      ]
    },
    {
      "cell_type": "markdown",
      "metadata": {
        "id": "AgfVJsxMG4eY"
      },
      "source": [
        "4.   Write a NumPy program to multiply and add two 3 x 3 matrices.\n"
      ]
    },
    {
      "cell_type": "code",
      "metadata": {
        "colab": {
          "base_uri": "https://localhost:8080/"
        },
        "id": "yPwVk74vG5Ut",
        "outputId": "8be6bff7-9c74-4faf-8f80-867d60ab5c7d"
      },
      "source": [
        "from numpy import *\n",
        "\n",
        "a=array([[1,2,3],[4,5,6],[7,8,9]])\n",
        "b=array([[3,2,1],[6,5,4],[9,8,7]])\n",
        "c=zeros([3,3],int)\n",
        "f=zeros([3,3],int)\n",
        "\n",
        "d=dot(a,b)\n",
        "e=a+b\n",
        "print(\"The multiplication result by first method is \",d)\n",
        "print(\"The addition result by first method is \",e)\n",
        "\n",
        "#Second Method\n",
        "for i in range(len(a)):\n",
        "  for j in range(len(b[0])):\n",
        "    for k in range(len(b)):\n",
        "      c[i][j]+=a[i][k]*b[k][j]\n",
        "      f[i][j]=a[i][j]+b[i][j]\n",
        "\n",
        "print(\"The multiplication result by second method is \",c)\n",
        "print(\"The addition result by second method is \",f)"
      ],
      "execution_count": 74,
      "outputs": [
        {
          "output_type": "stream",
          "name": "stdout",
          "text": [
            "The multiplication result by first method is  [[ 42  36  30]\n",
            " [ 96  81  66]\n",
            " [150 126 102]]\n",
            "The addition result by first method is  [[ 4  4  4]\n",
            " [10 10 10]\n",
            " [16 16 16]]\n",
            "The multiplication result by second method is  [[ 42  36  30]\n",
            " [ 96  81  66]\n",
            " [150 126 102]]\n",
            "The addition result by second method is  [[ 4  4  4]\n",
            " [10 10 10]\n",
            " [16 16 16]]\n"
          ]
        }
      ]
    },
    {
      "cell_type": "markdown",
      "metadata": {
        "id": "jld-KBsHR2hF"
      },
      "source": [
        "5.   Write a NumPy program to compute the trigonometric sine, cosine and tangent array of angles given in degrees."
      ]
    },
    {
      "cell_type": "code",
      "metadata": {
        "colab": {
          "base_uri": "https://localhost:8080/"
        },
        "id": "9j6a8ngzR_zH",
        "outputId": "82ebefc5-9de6-4d1f-b747-06f4bb6f2dc1"
      },
      "source": [
        "from numpy import *\n",
        "\n",
        "angle=array([0,30,45])\n",
        "\n",
        "print(\"Array of Sine of the angles: \",sin(angle*pi/180))\n",
        "print(\"Array of Cosine of the angles: \",cos(angle*pi/180))\n",
        "print(\"Array of Tangent of the angles: \",tan(angle*pi/180))"
      ],
      "execution_count": 66,
      "outputs": [
        {
          "output_type": "stream",
          "name": "stdout",
          "text": [
            "Array of Sine of the angles:  [0.         0.5        0.70710678]\n",
            "Array of Cosine of the angles:  [1.         0.8660254  0.70710678]\n",
            "Array of Tangent of the angles:  [0.         0.57735027 1.        ]\n"
          ]
        }
      ]
    },
    {
      "cell_type": "markdown",
      "metadata": {
        "id": "1pRRsjFffkfW"
      },
      "source": [
        "6.   Write a NumPy program to compute ex, element-wise of a given array."
      ]
    },
    {
      "cell_type": "code",
      "metadata": {
        "colab": {
          "base_uri": "https://localhost:8080/"
        },
        "id": "FyN_kbh6fnaH",
        "outputId": "4640961c-cce8-437d-cffe-62feb257b9af"
      },
      "source": [
        "from numpy import *\n",
        "\n",
        "x=array([1,2,3,4,5])\n",
        "\n",
        "result=exp(x)\n",
        "print(result)"
      ],
      "execution_count": 62,
      "outputs": [
        {
          "output_type": "stream",
          "name": "stdout",
          "text": [
            "[  2.71828183   7.3890561   20.08553692  54.59815003 148.4131591 ]\n"
          ]
        }
      ]
    }
  ]
}