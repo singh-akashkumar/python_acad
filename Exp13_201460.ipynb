{
  "nbformat": 4,
  "nbformat_minor": 0,
  "metadata": {
    "colab": {
      "name": "Exp13_201460.ipynb",
      "provenance": [],
      "collapsed_sections": []
    },
    "kernelspec": {
      "name": "python3",
      "display_name": "Python 3"
    },
    "language_info": {
      "name": "python"
    }
  },
  "cells": [
    {
      "cell_type": "markdown",
      "metadata": {
        "id": "6TDySXZ1tMil"
      },
      "source": [
        "201460\n",
        "Akash Kumar Singh\n",
        "CS 38"
      ]
    },
    {
      "cell_type": "markdown",
      "metadata": {
        "id": "eRB2huscuARN"
      },
      "source": [
        "WAP to add two matrices."
      ]
    },
    {
      "cell_type": "code",
      "metadata": {
        "colab": {
          "base_uri": "https://localhost:8080/"
        },
        "id": "N29RDDdztJkK",
        "outputId": "36a45705-eda2-41a6-cbb4-92b06bec0051"
      },
      "source": [
        "a=[[1,1],[1,1]]\n",
        "b=[[2,2],[2,2]]\n",
        "c=[[0,0],[0,0]]\n",
        "\n",
        "for i in range(len(a)):\n",
        "  for j in range(len(a[0])):\n",
        "    c[i][j]=a[i][j]+b[i][j]\n",
        "\n",
        "print(c)"
      ],
      "execution_count": 11,
      "outputs": [
        {
          "output_type": "stream",
          "name": "stdout",
          "text": [
            "[[3, 3], [3, 3]]\n"
          ]
        }
      ]
    }
  ]
}