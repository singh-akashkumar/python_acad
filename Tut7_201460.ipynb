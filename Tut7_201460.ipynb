{
  "nbformat": 4,
  "nbformat_minor": 0,
  "metadata": {
    "colab": {
      "name": "Tut7_201460.ipynb",
      "provenance": [],
      "collapsed_sections": []
    },
    "kernelspec": {
      "name": "python3",
      "display_name": "Python 3"
    },
    "language_info": {
      "name": "python"
    }
  },
  "cells": [
    {
      "cell_type": "markdown",
      "metadata": {
        "id": "Gr3yhlNjE1Ua"
      },
      "source": [
        "201460\n",
        "Akash Kumar Singh\n",
        "CS 38"
      ]
    },
    {
      "cell_type": "markdown",
      "metadata": {
        "id": "8is7uDHTE5vh"
      },
      "source": [
        "1.      Write a Python program to check if difference between sum of odd digits and sum of even digits is 0 or not."
      ]
    },
    {
      "cell_type": "code",
      "metadata": {
        "colab": {
          "base_uri": "https://localhost:8080/"
        },
        "id": "3d6VIBs6EYwg",
        "outputId": "e149bc73-5da0-4055-ddb9-0d8c58de0c72"
      },
      "source": [
        "a=input(\"Enter the number whose digits are to be traversed:\")\n",
        "\n",
        "sum_even=0\n",
        "sum_odd=0\n",
        "\n",
        "for i in range(len(a)):\n",
        "  if int(a[i])%2==0:\n",
        "    sum_even+=int(a[i])\n",
        "  else:\n",
        "    sum_odd+=int(a[i])\n",
        "\n",
        "print(\"The sum of even digits is\",sum_even)\n",
        "print(\"The sum of odd digits is\",sum_odd)\n",
        "diff=abs(sum_even-sum_odd)\n",
        "print(\"The difference between the sum of odd and even digits is\",diff)\n",
        "if diff==0:\n",
        "  print(\"The difference is Zero.\")\n",
        "else:\n",
        "  print(\"The difference is Non-Zero.\")"
      ],
      "execution_count": 9,
      "outputs": [
        {
          "output_type": "stream",
          "name": "stdout",
          "text": [
            "Enter the number whose digits are to be traversed:854145458095\n",
            "The sum of even digits is 28\n",
            "The sum of odd digits is 30\n",
            "The difference between the sum of odd and even digits is 2\n",
            "The difference is Non-Zero.\n"
          ]
        }
      ]
    },
    {
      "cell_type": "markdown",
      "metadata": {
        "id": "minn-x_YPVYF"
      },
      "source": [
        "2.     Write a python Program to find sum of even factors of a number."
      ]
    },
    {
      "cell_type": "code",
      "metadata": {
        "colab": {
          "base_uri": "https://localhost:8080/"
        },
        "id": "L-yaOiT2SGOi",
        "outputId": "67f8cd96-955d-4782-85d5-649723dd0449"
      },
      "source": [
        "n=int(input(\"Enter the number:\"))\n",
        "factors=[]\n",
        "for i in range(1,n+1):\n",
        "  if n%i==0:\n",
        "    factors.append(i)\n",
        "\n",
        "print(\"The factors of the entered number are:\",factors)\n",
        "\n",
        "sum_even=0\n",
        "for i in range(len(factors)):\n",
        "  if factors[i]%2==0:\n",
        "    sum_even+=factors[i]\n",
        "\n",
        "print(\"The sum of the even factors of the number is\",sum_even)"
      ],
      "execution_count": 17,
      "outputs": [
        {
          "output_type": "stream",
          "name": "stdout",
          "text": [
            "Enter the number:58\n",
            "The factors of the entered number are: [1, 2, 29, 58]\n",
            "The sum of the even factors of the number is 60\n"
          ]
        }
      ]
    },
    {
      "cell_type": "markdown",
      "metadata": {
        "id": "-Y2C4r9RVbio"
      },
      "source": [
        "3.      Write a python Program to check if binary representation of a number is palindrome or not."
      ]
    },
    {
      "cell_type": "code",
      "metadata": {
        "colab": {
          "base_uri": "https://localhost:8080/"
        },
        "id": "VH37dErSVehS",
        "outputId": "914b8e74-692a-492b-b41f-335792dfbf10"
      },
      "source": [
        "n=int(input(\"Enter the number:\"))\n",
        "a=int(bin(n)[2:])\n",
        "b=str(a)[::-1]\n",
        "print(\"The binary representation of the number is\",a)\n",
        "if a==int(b):\n",
        "  print(\"The binary representation is a Palindrome.\")\n",
        "else:\n",
        "  print(\"It is not a palindrome.\")"
      ],
      "execution_count": 33,
      "outputs": [
        {
          "output_type": "stream",
          "name": "stdout",
          "text": [
            "Enter the number:17\n",
            "The binary representation of the number is 10001\n",
            "The binary representation is a Palindrome.\n"
          ]
        }
      ]
    }
  ]
}