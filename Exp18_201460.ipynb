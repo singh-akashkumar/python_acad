{
  "nbformat": 4,
  "nbformat_minor": 0,
  "metadata": {
    "colab": {
      "name": "Exp18_201460.ipynb",
      "provenance": [],
      "collapsed_sections": []
    },
    "kernelspec": {
      "name": "python3",
      "display_name": "Python 3"
    },
    "language_info": {
      "name": "python"
    }
  },
  "cells": [
    {
      "cell_type": "markdown",
      "metadata": {
        "id": "ZKfh4s0J4KR6"
      },
      "source": [
        "201460\n",
        "Akash Kumar Singh\n",
        "CS 38"
      ]
    },
    {
      "cell_type": "markdown",
      "metadata": {
        "id": "HAHMwrNW4Y1Z"
      },
      "source": [
        "1.   Write a Python Program to calculate the area of a circle."
      ]
    },
    {
      "cell_type": "code",
      "metadata": {
        "colab": {
          "base_uri": "https://localhost:8080/"
        },
        "id": "EmqcpO1p4Huv",
        "outputId": "f970dab5-ef96-410d-e57b-7dfd62c096af"
      },
      "source": [
        "from math import pi\n",
        "\n",
        "class circle:\n",
        "  def __init__(self,radius):\n",
        "    self.radius=radius\n",
        "  def area(self,radius):\n",
        "    return (pi*radius*radius)\n",
        "\n",
        "rad=float(input(\"Enter the radius of the circle:\"))\n",
        "c1=circle(rad)\n",
        "print(\"The area of the circle of radius \"+str(rad)+\" is\",round(c1.area(rad),2),\"square units.\")"
      ],
      "execution_count": 27,
      "outputs": [
        {
          "output_type": "stream",
          "name": "stdout",
          "text": [
            "Enter the radius of the circle:8\n",
            "The area of the circle of radius 8.0 is 201.06 square units.\n"
          ]
        }
      ]
    },
    {
      "cell_type": "markdown",
      "metadata": {
        "id": "a_6d6BlM6_Fm"
      },
      "source": [
        "2.   Write a Python Program to calculate the volume of a box."
      ]
    },
    {
      "cell_type": "code",
      "metadata": {
        "colab": {
          "base_uri": "https://localhost:8080/"
        },
        "id": "OacTAygJ7AQv",
        "outputId": "9b4c78c3-bcb0-4a90-dc9d-cc7620970917"
      },
      "source": [
        "class box:\n",
        "  def __init__(self,l,b,h):\n",
        "    self.l=l\n",
        "    self.b=b;\n",
        "    self.h=h;\n",
        "  def vol(self,l,b,h):\n",
        "    return l*b*h\n",
        "\n",
        "len=float(input(\"Enter the length of the box:\"))\n",
        "brd=float(input(\"Enter the breadth of the box:\"))\n",
        "ht=float(input(\"Enter the height of the box:\"))\n",
        "b1=box(len,brd,ht)\n",
        "print(\"The volume of the box is\",round(b1.vol(len,brd,ht),2),\"cube units.\")"
      ],
      "execution_count": 26,
      "outputs": [
        {
          "output_type": "stream",
          "name": "stdout",
          "text": [
            "Enter the length of the box:3.7\n",
            "Enter the breadth of the box:1.9\n",
            "Enter the height of the box:6.43\n",
            "The volume of the box is 45.2 cube units.\n"
          ]
        }
      ]
    }
  ]
}