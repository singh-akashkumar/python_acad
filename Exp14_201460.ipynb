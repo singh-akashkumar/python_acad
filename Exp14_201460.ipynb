{
  "nbformat": 4,
  "nbformat_minor": 0,
  "metadata": {
    "colab": {
      "name": "Exp14_201460.ipynb",
      "provenance": [],
      "collapsed_sections": []
    },
    "kernelspec": {
      "name": "python3",
      "display_name": "Python 3"
    },
    "language_info": {
      "name": "python"
    }
  },
  "cells": [
    {
      "cell_type": "markdown",
      "metadata": {
        "id": "-8DdP57xxl8J"
      },
      "source": [
        "201460\n",
        "Akash Kumar Singh\n",
        "CS 38"
      ]
    },
    {
      "cell_type": "markdown",
      "metadata": {
        "id": "jv7Q7fVDxpou"
      },
      "source": [
        "WAP to multiply two matrices."
      ]
    },
    {
      "cell_type": "code",
      "metadata": {
        "colab": {
          "base_uri": "https://localhost:8080/"
        },
        "id": "9rGruV1Yxfmd",
        "outputId": "1c30acb6-f316-41ee-f78a-31647a8b851a"
      },
      "source": [
        "a=[[1,1],[1,1]]\n",
        "b=[[2,2],[2,2]]\n",
        "c=[[0,0],[0,0]]\n",
        "\n",
        "for i in range(len(a)):\n",
        "  for j in range(len(b[0])):\n",
        "    for k in range(len(b)):\n",
        "      c[i][j]+=a[i][k]*b[k][j]\n",
        "\n",
        "print(c)"
      ],
      "execution_count": 1,
      "outputs": [
        {
          "output_type": "stream",
          "name": "stdout",
          "text": [
            "[[4, 4], [4, 4]]\n"
          ]
        }
      ]
    }
  ]
}