{
  "nbformat": 4,
  "nbformat_minor": 0,
  "metadata": {
    "colab": {
      "name": "201460_Tutorial 2.ipynb",
      "provenance": [],
      "collapsed_sections": []
    },
    "kernelspec": {
      "name": "python3",
      "display_name": "Python 3"
    },
    "language_info": {
      "name": "python"
    }
  },
  "cells": [
    {
      "cell_type": "markdown",
      "metadata": {
        "id": "InFvJJz1uYMl"
      },
      "source": [
        "201460\n",
        "Akash Kumar Singh\n",
        "CS 38"
      ]
    },
    {
      "cell_type": "markdown",
      "metadata": {
        "id": "wmKhjeG3udSm"
      },
      "source": [
        "Arithmetic Operators"
      ]
    },
    {
      "cell_type": "code",
      "metadata": {
        "id": "-U8Nb1ESuWku"
      },
      "source": [
        "a=7\n",
        "b=9\n",
        "\n",
        "#Addition\n",
        "add=a+b\n",
        "#Subtraction\n",
        "sub=a-b\n",
        "#Multiplication\n",
        "mul=a*b\n",
        "#Division\n",
        "div=a/b\n",
        "#Modulus or Remainder\n",
        "rem=a%b\n",
        "#Exponentiation (a raised to power b)\n",
        "exp=a**b\n",
        "#Floor Division or Integral Division\n",
        "d=a//b\n",
        "\n",
        "print(add)\n",
        "print(sub)\n",
        "print(mul)\n",
        "print(div)\n",
        "print(rem)\n",
        "print(exp)\n",
        "print(d)\n"
      ],
      "execution_count": null,
      "outputs": []
    },
    {
      "cell_type": "markdown",
      "metadata": {
        "id": "Vs1G1nEtv1Qr"
      },
      "source": [
        "Assignment Operators"
      ]
    },
    {
      "cell_type": "code",
      "metadata": {
        "colab": {
          "base_uri": "https://localhost:8080/"
        },
        "id": "zVkG8gDlv7gW",
        "outputId": "93009f7e-5f0f-4a80-d748-96eff948c840"
      },
      "source": [
        "x=7\n",
        "print(x)\n",
        "x+=1\n",
        "print(x)\n",
        "x-=1\n",
        "print(x)\n",
        "x*=2\n",
        "print(x)\n",
        "x/=2\n",
        "print(x)\n",
        "x%=4\n",
        "print(x)\n",
        "x//=1.2\n",
        "print(x)\n",
        "x**=3\n",
        "print(x)\n",
        "x=int(x)\n",
        "print(x)\n",
        "x&=3\n",
        "print(x)\n",
        "x|=3\n",
        "print(x)\n",
        "x^=2\n",
        "print(x)\n",
        "x>>=3\n",
        "print(x)\n",
        "x<<=4\n",
        "print(x)"
      ],
      "execution_count": null,
      "outputs": [
        {
          "output_type": "stream",
          "text": [
            "7\n",
            "8\n",
            "7\n",
            "14\n",
            "7.0\n",
            "3.0\n",
            "2.0\n",
            "8.0\n",
            "8\n",
            "0\n",
            "3\n",
            "1\n",
            "0\n",
            "0\n"
          ],
          "name": "stdout"
        }
      ]
    },
    {
      "cell_type": "markdown",
      "metadata": {
        "id": "7lV9s-QR2bQ8"
      },
      "source": [
        "Comparison Operators"
      ]
    },
    {
      "cell_type": "code",
      "metadata": {
        "colab": {
          "base_uri": "https://localhost:8080/"
        },
        "id": "GsiCIGhM2fw-",
        "outputId": "e2ece96b-f074-471c-af50-7d475f2c46f8"
      },
      "source": [
        "m=7\n",
        "n=4\n",
        "print(m==n)\n",
        "print(m!=n)\n",
        "print(m>n)\n",
        "print(m<n)\n",
        "print(m>=n)\n",
        "print(m<=n)"
      ],
      "execution_count": null,
      "outputs": [
        {
          "output_type": "stream",
          "text": [
            "False\n",
            "True\n",
            "True\n",
            "False\n",
            "True\n",
            "False\n"
          ],
          "name": "stdout"
        }
      ]
    },
    {
      "cell_type": "markdown",
      "metadata": {
        "id": "UqSpMgvO3oax"
      },
      "source": [
        "Logical Operators"
      ]
    },
    {
      "cell_type": "code",
      "metadata": {
        "colab": {
          "base_uri": "https://localhost:8080/"
        },
        "id": "df4g5aw83rK5",
        "outputId": "ac138b1d-7f7e-410e-af17-c6121074bfd4"
      },
      "source": [
        "print(m>8 and m>n)\n",
        "print(m>8 or m>n)\n",
        "print(not(m>8 or m>n))"
      ],
      "execution_count": null,
      "outputs": [
        {
          "output_type": "stream",
          "text": [
            "False\n",
            "True\n",
            "False\n"
          ],
          "name": "stdout"
        }
      ]
    },
    {
      "cell_type": "markdown",
      "metadata": {
        "id": "eUhdoUvR4JNV"
      },
      "source": [
        "Identity Operators"
      ]
    },
    {
      "cell_type": "code",
      "metadata": {
        "colab": {
          "base_uri": "https://localhost:8080/"
        },
        "id": "QmiBtF644Ohc",
        "outputId": "58e976ef-810a-463f-9263-b6492c0e999e"
      },
      "source": [
        "print(m is n)\n",
        "print(m is not n)"
      ],
      "execution_count": null,
      "outputs": [
        {
          "output_type": "stream",
          "text": [
            "False\n",
            "True\n"
          ],
          "name": "stdout"
        }
      ]
    },
    {
      "cell_type": "markdown",
      "metadata": {
        "id": "-B8FazbF4v_m"
      },
      "source": [
        "Membership Operators"
      ]
    },
    {
      "cell_type": "code",
      "metadata": {
        "colab": {
          "base_uri": "https://localhost:8080/"
        },
        "id": "sGtT_LQO4zrq",
        "outputId": "6ee40a47-a7dc-490a-c42b-8c9096cacd21"
      },
      "source": [
        "a=[1,3,5,7,9]\n",
        "print(2 in a)\n",
        "print(2 not in a)"
      ],
      "execution_count": null,
      "outputs": [
        {
          "output_type": "stream",
          "text": [
            "False\n",
            "True\n"
          ],
          "name": "stdout"
        }
      ]
    },
    {
      "cell_type": "markdown",
      "metadata": {
        "id": "j0mEbqmq9ujR"
      },
      "source": [
        "Bitwise Operators\n",
        "\n",
        "& - AND - Sets each bit to 1 if both bits are 1\n",
        "\n",
        "| - OR - Sets each bit to 1 if one of two bits is 1\n",
        "\n",
        "^ - XOR - Sets each bit to 1 if only one of two bits is 1\n",
        "\n",
        "~ - NOT - Inverts all the bits\n",
        "\n",
        "<< - Zero fill left shift\n",
        "\n",
        ".....>> - Signed Right Shift"
      ]
    }
  ]
}