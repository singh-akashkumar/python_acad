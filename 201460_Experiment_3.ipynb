{
  "nbformat": 4,
  "nbformat_minor": 0,
  "metadata": {
    "colab": {
      "name": "201460_Experiment 3.ipynb",
      "provenance": [],
      "collapsed_sections": []
    },
    "kernelspec": {
      "name": "python3",
      "display_name": "Python 3"
    },
    "language_info": {
      "name": "python"
    }
  },
  "cells": [
    {
      "cell_type": "markdown",
      "metadata": {
        "id": "EoE06nTrv-WM"
      },
      "source": [
        "Write a Python program which accepts the user's first and last name and prints them in reverse order with a space between them."
      ]
    },
    {
      "cell_type": "code",
      "metadata": {
        "colab": {
          "base_uri": "https://localhost:8080/"
        },
        "id": "MvbSXj88vzOU",
        "outputId": "5083150e-ec35-4705-b4a3-5cb2de4acca8"
      },
      "source": [
        "first_name=input(\"Enter your first name:\")\n",
        "last_name=input(\"Enter your last name:\")\n",
        "print(last_name+\" \"+first_name)"
      ],
      "execution_count": null,
      "outputs": [
        {
          "output_type": "stream",
          "name": "stdout",
          "text": [
            "Enter your first name:Akash\n",
            "Enter your last name:Singh\n",
            "Singh Akash\n"
          ]
        }
      ]
    },
    {
      "cell_type": "markdown",
      "metadata": {
        "id": "Iyz79S-iwglN"
      },
      "source": [
        "Write a Python program to display the first and last colors from the following list. color_list = [\"Red\",\"Green\",\"White\" ,\"Black\"]."
      ]
    },
    {
      "cell_type": "code",
      "metadata": {
        "colab": {
          "base_uri": "https://localhost:8080/"
        },
        "id": "Bz0fFsGJwlWM",
        "outputId": "f27f9c28-8934-434e-99ad-d61c6a6628db"
      },
      "source": [
        "color_list=[\"Red\",\"Green\",\"White\",\"Black\"]\n",
        "print(color_list[0],color_list[-1])"
      ],
      "execution_count": null,
      "outputs": [
        {
          "output_type": "stream",
          "name": "stdout",
          "text": [
            "Red Black\n"
          ]
        }
      ]
    }
  ]
}