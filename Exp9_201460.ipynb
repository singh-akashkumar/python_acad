{
  "nbformat": 4,
  "nbformat_minor": 0,
  "metadata": {
    "colab": {
      "name": "Exp9_201460.ipynb",
      "provenance": [],
      "collapsed_sections": []
    },
    "kernelspec": {
      "name": "python3",
      "display_name": "Python 3"
    },
    "language_info": {
      "name": "python"
    }
  },
  "cells": [
    {
      "cell_type": "markdown",
      "metadata": {
        "id": "bTpRgZdi9iy8"
      },
      "source": [
        "201460\n",
        "Akash Kumar Singh\n",
        "CS 38"
      ]
    },
    {
      "cell_type": "markdown",
      "metadata": {
        "id": "S3WvYrzf97tM"
      },
      "source": [
        "Write a Python program to create an array of 5 integers and display the array items. Access individual element through indexes."
      ]
    },
    {
      "cell_type": "code",
      "metadata": {
        "colab": {
          "base_uri": "https://localhost:8080/"
        },
        "id": "N4aXl1uftyaG",
        "outputId": "399c488c-5802-4107-f828-bd5d3badb31c"
      },
      "source": [
        "import array as arr\n",
        "a=arr.array('i',[9,8,7,6,5])\n",
        "\n",
        "print(\"The elements of the array are:\")\n",
        "for i in range (0,5):\n",
        "  print(a[i],end=\" \")\n",
        "  print()\n",
        "\n",
        "j=int(input(\"Enter the index of the element to be displayed:\"))\n",
        "print(\"The element at index \"+str(j)+\" is: \",a[j])"
      ],
      "execution_count": 14,
      "outputs": [
        {
          "output_type": "stream",
          "name": "stdout",
          "text": [
            "The elements of the array are:\n",
            "9 \n",
            "8 \n",
            "7 \n",
            "6 \n",
            "5 \n",
            "Enter the index of the element to be displayed:2\n",
            "The element at index 2 is:  7\n"
          ]
        }
      ]
    },
    {
      "cell_type": "markdown",
      "metadata": {
        "id": "5gxSSHQl-41b"
      },
      "source": [
        "Write a Python program to convert an array to an ordinary list with the same items."
      ]
    },
    {
      "cell_type": "code",
      "metadata": {
        "colab": {
          "base_uri": "https://localhost:8080/"
        },
        "id": "glA8E39D_CVW",
        "outputId": "55725e7b-2899-4415-c405-0d44c7378613"
      },
      "source": [
        "import array as arr\n",
        "a=arr.array('i',[1,2,3,4,5])\n",
        "b=list(a)\n",
        "print(b)"
      ],
      "execution_count": 16,
      "outputs": [
        {
          "output_type": "stream",
          "name": "stdout",
          "text": [
            "[1, 2, 3, 4, 5]\n"
          ]
        }
      ]
    }
  ]
}