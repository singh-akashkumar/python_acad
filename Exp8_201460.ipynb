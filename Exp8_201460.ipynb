{
  "nbformat": 4,
  "nbformat_minor": 0,
  "metadata": {
    "colab": {
      "name": "Exp8_201460.ipynb",
      "provenance": [],
      "collapsed_sections": []
    },
    "kernelspec": {
      "name": "python3",
      "display_name": "Python 3"
    },
    "language_info": {
      "name": "python"
    }
  },
  "cells": [
    {
      "cell_type": "markdown",
      "metadata": {
        "id": "MDEgp91F3tCI"
      },
      "source": [
        "201460\n",
        "Akash Kumar Singh\n",
        "CS 38"
      ]
    },
    {
      "cell_type": "markdown",
      "metadata": {
        "id": "6l0rvb-f3xHm"
      },
      "source": [
        "Write a Python program to find sum of two given integers. However, if the sum is between 15 to 20 it should return 20."
      ]
    },
    {
      "cell_type": "code",
      "metadata": {
        "colab": {
          "base_uri": "https://localhost:8080/"
        },
        "id": "SEdxYLGn3p1S",
        "outputId": "64c85861-54f8-4071-9f28-cd60c3032140"
      },
      "source": [
        "def sum(a,b):\n",
        "  sum=a+b\n",
        "  if 15<=sum<=20:\n",
        "    return 20\n",
        "  else:\n",
        "    return sum\n",
        "\n",
        "a=int(input(\"Enter the first number:\"))\n",
        "b=int(input(\"Enter the second number:\"))\n",
        "print(\"The required output is \",sum(a,b))"
      ],
      "execution_count": 3,
      "outputs": [
        {
          "output_type": "stream",
          "name": "stdout",
          "text": [
            "Enter the first number:7\n",
            "Enter the second number:9\n",
            "The required output is  20\n"
          ]
        }
      ]
    },
    {
      "cell_type": "markdown",
      "metadata": {
        "id": "SAtT8skd4tT2"
      },
      "source": [
        "Write a Python program to compute the future value of a specified principal amount, rate of interest, and a number of years."
      ]
    },
    {
      "cell_type": "code",
      "metadata": {
        "colab": {
          "base_uri": "https://localhost:8080/"
        },
        "id": "O8dTVidl4zMm",
        "outputId": "2e508236-04bc-476b-b4f9-34d064631a23"
      },
      "source": [
        "pa=float(input(\"Enter the Pricipal Amount:\"))\n",
        "roi=float(input(\"Enter the Rate of Interest:\"))\n",
        "yrs=float(input(\"Enter the number of years:\"))\n",
        "\n",
        "print(\"The future value based on SI is \",round(pa+(pa*roi*yrs/100),2))\n",
        "print(\"The future value based on CI is \",round(pa*((1+(roi/100))**yrs),2))"
      ],
      "execution_count": 16,
      "outputs": [
        {
          "output_type": "stream",
          "name": "stdout",
          "text": [
            "Enter the Pricipal Amount:10000\n",
            "Enter the Rate of Interest:3.5\n",
            "Enter the number of years:7\n",
            "The future value based on SI is  12450.0\n",
            "The future value based on CI is  12722.79\n"
          ]
        }
      ]
    }
  ]
}