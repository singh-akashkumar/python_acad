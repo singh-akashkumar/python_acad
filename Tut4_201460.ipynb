{
  "nbformat": 4,
  "nbformat_minor": 0,
  "metadata": {
    "colab": {
      "name": "Tut4_201460.ipynb",
      "provenance": [],
      "collapsed_sections": []
    },
    "kernelspec": {
      "name": "python3",
      "display_name": "Python 3"
    },
    "language_info": {
      "name": "python"
    }
  },
  "cells": [
    {
      "cell_type": "markdown",
      "metadata": {
        "id": "JrSlhM_mRPk7"
      },
      "source": [
        "Write a program that accepts the lengths of three sides of a triangle as inputs.The program output should indicate whether or not the triangle is an equilateral triangle."
      ]
    },
    {
      "cell_type": "code",
      "metadata": {
        "colab": {
          "base_uri": "https://localhost:8080/"
        },
        "id": "0QSu4phePXYA",
        "outputId": "0dbc89a7-58a2-4999-d414-1353d3faf51e"
      },
      "source": [
        "a=int(input(\"Enter the length of first side:\"))\n",
        "b=int(input(\"Enter the length of second side:\"))\n",
        "c=int(input(\"Enter the length of third side:\"))\n",
        "\n",
        "if a==b==c:\n",
        "  print(\"The triangle is an Equilateral Triangle.\")\n",
        "else:\n",
        "  print(\"The triangle is not equilateral.\")"
      ],
      "execution_count": null,
      "outputs": [
        {
          "output_type": "stream",
          "name": "stdout",
          "text": [
            "Enter the length of first side:7\n",
            "Enter the length of second side:7\n",
            "Enter the length of third side:7\n",
            "The triangle is an Equilateral Triangle.\n"
          ]
        }
      ]
    },
    {
      "cell_type": "markdown",
      "metadata": {
        "id": "qKVoN2QIUsMj"
      },
      "source": [
        "Write a program that accepts the lengths of three sides of a triangle as inputs.The program output should indicate whether or not the triangle is a right triangle."
      ]
    },
    {
      "cell_type": "code",
      "metadata": {
        "colab": {
          "base_uri": "https://localhost:8080/"
        },
        "id": "l9AC3g4uU4X5",
        "outputId": "de99f72b-b1aa-412e-d15c-e26b4d5e70bb"
      },
      "source": [
        "from math import pow\n",
        "\n",
        "a=int(input(\"Enter the length of first side:\"))\n",
        "b=int(input(\"Enter the length of second side:\"))\n",
        "c=int(input(\"Enter the length of third side:\"))\n",
        "\n",
        "if pow(a,2)+pow(b,2)==pow(c,2):\n",
        "  print(\"Right Triangle\")\n",
        "else:\n",
        "  print(\"Not a right triangle\")"
      ],
      "execution_count": null,
      "outputs": [
        {
          "output_type": "stream",
          "name": "stdout",
          "text": [
            "Enter the length of first side:3\n",
            "Enter the length of second side:4\n",
            "Enter the length of third side:5\n",
            "Right Triangle\n"
          ]
        }
      ]
    },
    {
      "cell_type": "markdown",
      "metadata": {
        "id": "BUySH_5vDAyZ"
      },
      "source": [
        "A standard science experiment is to drop a ball and see how high it bounces.Once the “bounciness” of the ball has been determined, the ratio gives a bounciness index. For example, if a ball dropped from a height of 10 feet bounces 6 feet high, the index is 0.6, and the total distance travelled by the ball is 16 feet afterone bounce. If the ball were to continue bouncing, the distance after two bounces would be 10 ft+ 6 ft+ 6 ft+ 3.6 ft = 25.6 ft. Note that the distance travelled foreach successive bounce is the distance to the floor plus 0.6 of that distance as the ball comes back up. Write a\n",
        "program that lets the user enter the initial height from which the ball is dropped and the number of times the ball is allowed to continue bouncing. Output should be the total distance travelled by the ball."
      ]
    },
    {
      "cell_type": "code",
      "metadata": {
        "id": "B6pZWPegDZBh",
        "colab": {
          "base_uri": "https://localhost:8080/"
        },
        "outputId": "d0294c14-0982-47b1-f62c-51107d495246"
      },
      "source": [
        "height = float(input('Enter the height from which the ball is dropped: '))\n",
        "bounci_index = float(input('Enter the bounciness index of the ball: '))\n",
        "bounces = int(input('Enter the number of times the ball is allowed to continue bouncing: '))\n",
        "distance = height\n",
        "\n",
        "for i in range(bounces-1):\n",
        "   height *= bounci_index\n",
        "   distance += 2*height\n",
        "\n",
        "distance += height*bounci_index\n",
        "\n",
        "print('Total distance traveled is: ' + str(distance) + ' units.')"
      ],
      "execution_count": 3,
      "outputs": [
        {
          "output_type": "stream",
          "name": "stdout",
          "text": [
            "Enter the height from which the ball is dropped: 100\n",
            "Enter the bounciness index of the ball: 0.5\n",
            "Enter the number of times the ball is allowed to continue bouncing: 10\n",
            "Total distance traveled is: 299.70703125 units.\n"
          ]
        }
      ]
    },
    {
      "cell_type": "markdown",
      "metadata": {
        "id": "hWnm_2XkGssk"
      },
      "source": [
        "A local biologist needs a program to predict population growth. The inputs would be the initial number of organisms, the rate of growth(a real number greater than 0), the number of hours it takes to achieve this rate, and a number of hours during which the population grows. For example, one might start with a population of 500 organisms, a growth rate of 2, and a growth period to achieve this rate of 6 hours. Assuming that none of the organisms die, this would imply that this population would double in size every 6 hours. Thus, after allowing 6 hours for growth, we would have 1000\n",
        "organisms, and after 12 hours, we would have 2000 organisms. Write a program that takes these inputs and displays a prediction of the total population."
      ]
    },
    {
      "cell_type": "code",
      "metadata": {
        "id": "9C5Jdz3gHFzD",
        "colab": {
          "base_uri": "https://localhost:8080/"
        },
        "outputId": "ecd0e096-3217-4124-cbfa-c61426a95399"
      },
      "source": [
        "organisms = int(input(\"Enter the initial number of organisms:\"))\n",
        "rateOfGrowth = int(input(\"Enter the rate of growth : \"))\n",
        "numOfhours = int(input(\"Enter the number of hours to achieve the rate of growth: \"))\n",
        "totalhours = int(input(\"Enter the total hours of growth: \"))\n",
        "hours=0\n",
        "while (hours <= totalhours):\n",
        "    organisms*=rateOfGrowth\n",
        "    hours += numOfhours\n",
        "    if (hours==totalhours):\n",
        "        break\n",
        "print(\"The total population:\" ,organisms)"
      ],
      "execution_count": 4,
      "outputs": [
        {
          "output_type": "stream",
          "name": "stdout",
          "text": [
            "Enter the initial number of organisms:1000\n",
            "Enter the rate of growth : 5\n",
            "Enter the number of hours to achieve the rate of growth: 10\n",
            "Enter the total hours of growth: 25\n",
            "The total population: 125000\n"
          ]
        }
      ]
    }
  ]
}