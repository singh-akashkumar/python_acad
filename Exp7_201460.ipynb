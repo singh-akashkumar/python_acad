{
  "nbformat": 4,
  "nbformat_minor": 0,
  "metadata": {
    "colab": {
      "name": "Exp7_201460.ipynb",
      "provenance": [],
      "collapsed_sections": []
    },
    "kernelspec": {
      "name": "python3",
      "display_name": "Python 3"
    },
    "language_info": {
      "name": "python"
    }
  },
  "cells": [
    {
      "cell_type": "markdown",
      "metadata": {
        "id": "McNDGt32kalm"
      },
      "source": [
        "201460\n",
        "Akash Kumar Singh\n",
        "CS 38"
      ]
    },
    {
      "cell_type": "markdown",
      "metadata": {
        "id": "UgGR9z1TkRea"
      },
      "source": [
        "Write a Python program that accepts a single integer value entered by the user. If the value entered is less than one, the program prints nothing. If the user enters a positive integer, n, the program prints an n×n box drawn with * characters."
      ]
    },
    {
      "cell_type": "code",
      "metadata": {
        "colab": {
          "base_uri": "https://localhost:8080/"
        },
        "id": "ydCkLyt1kNdA",
        "outputId": "57cdbf82-1f1c-4ae5-dd86-1489dd29dea7"
      },
      "source": [
        "n=int(input(\"Enter an integer:\"))\n",
        "\n",
        "if n<1:\n",
        "  pass\n",
        "else:\n",
        "  for i in range (n):\n",
        "    for j in range (n):\n",
        "      print(\"*\",end=\" \")\n",
        "    print(\"\")"
      ],
      "execution_count": 12,
      "outputs": [
        {
          "output_type": "stream",
          "name": "stdout",
          "text": [
            "Enter an integer:7\n",
            "* * * * * * * \n",
            "* * * * * * * \n",
            "* * * * * * * \n",
            "* * * * * * * \n",
            "* * * * * * * \n",
            "* * * * * * * \n",
            "* * * * * * * \n"
          ]
        }
      ]
    }
  ]
}