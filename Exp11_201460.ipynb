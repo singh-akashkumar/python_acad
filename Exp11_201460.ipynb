{
  "nbformat": 4,
  "nbformat_minor": 0,
  "metadata": {
    "colab": {
      "name": "Exp11_201460.ipynb",
      "provenance": [],
      "collapsed_sections": []
    },
    "kernelspec": {
      "name": "python3",
      "display_name": "Python 3"
    },
    "language_info": {
      "name": "python"
    }
  },
  "cells": [
    {
      "cell_type": "markdown",
      "metadata": {
        "id": "ZOHxm2kgG2wp"
      },
      "source": [
        "201460\n",
        "Akash Kumar Singh\n",
        "CS 38"
      ]
    },
    {
      "cell_type": "markdown",
      "metadata": {
        "id": "-XW-v3nOG7vY"
      },
      "source": [
        "Write a Python program to get an array buffer information. Expected Output: Array buffer start address in memory and number of elements :(25855056, 2)"
      ]
    },
    {
      "cell_type": "code",
      "metadata": {
        "colab": {
          "base_uri": "https://localhost:8080/"
        },
        "id": "sfUHXs5nGz63",
        "outputId": "0bc20f0f-e774-45ef-fbde-0b3b81bfd4b0"
      },
      "source": [
        "from array import array\n",
        "\n",
        "a=array('i',[1,2,3,4,5,6,7,8,9])\n",
        "\n",
        "print(\"The array buffer start address in memory and the number of elements:\")\n",
        "print(a.buffer_info())"
      ],
      "execution_count": 7,
      "outputs": [
        {
          "output_type": "stream",
          "name": "stdout",
          "text": [
            "The array buffer start address in memory and the number of elements:\n",
            "(139698169124928, 9)\n"
          ]
        }
      ]
    }
  ]
}