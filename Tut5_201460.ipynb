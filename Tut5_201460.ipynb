{
  "nbformat": 4,
  "nbformat_minor": 0,
  "metadata": {
    "colab": {
      "name": "Tut5_201460.ipynb",
      "provenance": [],
      "collapsed_sections": []
    },
    "kernelspec": {
      "name": "python3",
      "display_name": "Python 3"
    },
    "language_info": {
      "name": "python"
    }
  },
  "cells": [
    {
      "cell_type": "markdown",
      "metadata": {
        "id": "Ml8QxnDT6-50"
      },
      "source": [
        "201460\n",
        "Akash Kumar Singh\n",
        "CS 38"
      ]
    },
    {
      "cell_type": "markdown",
      "metadata": {
        "id": "vx7-QAwE7CjW"
      },
      "source": [
        "1. Write a Python Program to find the sum of a series 1/1! + 2/2! +\n",
        "3/3! + 4/4! +……. + n/n!"
      ]
    },
    {
      "cell_type": "code",
      "metadata": {
        "colab": {
          "base_uri": "https://localhost:8080/"
        },
        "id": "bT1PsjZb60IY",
        "outputId": "4461ccfc-9af9-4f87-cf10-68964c15ecaf"
      },
      "source": [
        "def fact(n):\n",
        "  known={0:1,1:1}\n",
        "  if n in known:\n",
        "    return known[n]\n",
        "  else:\n",
        "    return n*fact(n-1)\n",
        "\n",
        "n=int(input(\"Enter the value of n:\"))\n",
        "sum=0\n",
        "for i in range (1,n+1):\n",
        "  val=i/fact(i)\n",
        "  sum=sum+val\n",
        "\n",
        "print(\"The sum of the series is \",sum)\n"
      ],
      "execution_count": null,
      "outputs": [
        {
          "output_type": "stream",
          "name": "stdout",
          "text": [
            "Enter the value of n:3\n",
            "The sum of the series is  2.5\n"
          ]
        }
      ]
    },
    {
      "cell_type": "markdown",
      "metadata": {
        "id": "zRoYXS13DHHo"
      },
      "source": [
        "2. Write a Python Program to print your name with stars pattern."
      ]
    },
    {
      "cell_type": "code",
      "metadata": {
        "id": "1-gcYw_MDPW3",
        "colab": {
          "base_uri": "https://localhost:8080/"
        },
        "outputId": "df4f33d6-dcc5-485e-8ef2-7b418ed80ae8"
      },
      "source": [
        "letters = {\n",
        "    'A': [' *** ', '*   *', '*****', '*   *', '*   *'],\n",
        "    'K': ['*   *', '*  * ', '**   ', '*  * ', '*   *'],\n",
        "    'S': [' ****', '*    ', '**** ', '    *', '**** '],\n",
        "    'H': ['*   *', '*   *', '*****', '*   *', '*   *'],\n",
        "    }\n",
        "\n",
        "string=\"AKASH\"\n",
        "\n",
        "for i in range(5):\n",
        "    for word in range(len(string)):\n",
        "        current_word = string[word].upper()\n",
        "        if word == len(string)-1 :\n",
        "            print(letters[current_word][i])\n",
        "        else :\n",
        "            print(letters[current_word][i],end='  ')"
      ],
      "execution_count": 17,
      "outputs": [
        {
          "output_type": "stream",
          "name": "stdout",
          "text": [
            " ***   *   *   ***    ****  *   *\n",
            "*   *  *  *   *   *  *      *   *\n",
            "*****  **     *****  ****   *****\n",
            "*   *  *  *   *   *      *  *   *\n",
            "*   *  *   *  *   *  ****   *   *\n"
          ]
        }
      ]
    },
    {
      "cell_type": "markdown",
      "metadata": {
        "id": "drHoZU_bDP5s"
      },
      "source": [
        "3. Write a Python program to print all even numbers in a range."
      ]
    },
    {
      "cell_type": "code",
      "metadata": {
        "colab": {
          "base_uri": "https://localhost:8080/"
        },
        "id": "Y_5ILW-XDTXf",
        "outputId": "235ac92e-e031-49f1-c8fa-f693a66a6a89"
      },
      "source": [
        "def print_even(n):\n",
        "  print(\"The even numbers in the given range are:\",end=\" \")\n",
        "  for i in range (0,n+1):\n",
        "    if i%2==0:\n",
        "      print(i,end=\" \")\n",
        "\n",
        "n=int(input(\"Enter the last number of the desired range:\"))\n",
        "print_even(n)"
      ],
      "execution_count": null,
      "outputs": [
        {
          "output_type": "stream",
          "name": "stdout",
          "text": [
            "Enter the last number of the desired range:20\n",
            "The even numbers in the given range are: 0 2 4 6 8 10 12 14 16 18 20 "
          ]
        }
      ]
    },
    {
      "cell_type": "markdown",
      "metadata": {
        "id": "tX3JeJ5_ESt7"
      },
      "source": [
        "4. Show that the outputs of functions Filter, Map and Reduce can be obtained using List Comprehension."
      ]
    },
    {
      "cell_type": "code",
      "metadata": {
        "colab": {
          "base_uri": "https://localhost:8080/"
        },
        "id": "1r8p4CScEYxR",
        "outputId": "8c6b9ddf-b248-4ad4-dd6b-75a3917ffd71"
      },
      "source": [
        "#Mapping\n",
        "a=['jaypee','waknaghat','solan','shimla']\n",
        "b=[]\n",
        "for s in a:\n",
        "  b.append(s.capitalize())\n",
        "print(b)\n",
        "\n",
        "#Filter\n",
        "c=['JAYPEE','Jaypee','jaypee']\n",
        "d=[]\n",
        "for s in c:\n",
        "  if s.isupper():\n",
        "    d.append(s)\n",
        "print(d)\n",
        "\n",
        "#Reduce\n",
        "e=[56,98,23,54]\n",
        "def reduce(e):\n",
        "  sum=0\n",
        "  for num in e:\n",
        "    sum=sum+num\n",
        "  return sum\n",
        "\n",
        "print(reduce(e))"
      ],
      "execution_count": null,
      "outputs": [
        {
          "output_type": "stream",
          "name": "stdout",
          "text": [
            "['Jaypee', 'Waknaghat', 'Solan', 'Shimla']\n",
            "['JAYPEE']\n",
            "231\n"
          ]
        }
      ]
    }
  ]
}