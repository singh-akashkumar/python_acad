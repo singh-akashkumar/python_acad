{
  "nbformat": 4,
  "nbformat_minor": 0,
  "metadata": {
    "colab": {
      "name": "201460_Experiment_1.ipynb",
      "provenance": [],
      "collapsed_sections": []
    },
    "kernelspec": {
      "name": "python3",
      "display_name": "Python 3"
    },
    "language_info": {
      "name": "python"
    }
  },
  "cells": [
    {
      "cell_type": "markdown",
      "metadata": {
        "id": "fis3neund6qk"
      },
      "source": [
        "Akash Kumar Singh\n",
        "201460\n",
        "CS 38"
      ]
    },
    {
      "cell_type": "code",
      "metadata": {
        "colab": {
          "base_uri": "https://localhost:8080/",
          "height": 36
        },
        "id": "a4i4LnVBczbs",
        "outputId": "c144cad5-4079-4fb7-a6c8-01ba42db8cbe"
      },
      "source": [
        "import sys\n",
        "sys.version"
      ],
      "execution_count": 1,
      "outputs": [
        {
          "output_type": "execute_result",
          "data": {
            "application/vnd.google.colaboratory.intrinsic+json": {
              "type": "string"
            },
            "text/plain": [
              "'3.7.11 (default, Jul  3 2021, 18:01:19) \\n[GCC 7.5.0]'"
            ]
          },
          "metadata": {},
          "execution_count": 1
        }
      ]
    },
    {
      "cell_type": "code",
      "metadata": {
        "colab": {
          "base_uri": "https://localhost:8080/"
        },
        "id": "2Vh6dLl2d3ge",
        "outputId": "6f03b430-c974-42f1-fa8c-705e637974a8"
      },
      "source": [
        "from math import pi\n",
        "r=float(input('Enter the radius of the circle:'))\n",
        "area=pi*r*r\n",
        "print('The area of the circle with radius '+str(r)+' is: '+str(area))"
      ],
      "execution_count": 6,
      "outputs": [
        {
          "output_type": "stream",
          "text": [
            "Enter the radius of the circle:5.6\n",
            "The area of the circle with radius 5.6 is: 98.52034561657591\n"
          ],
          "name": "stdout"
        }
      ]
    }
  ]
}