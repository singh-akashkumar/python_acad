{
  "nbformat": 4,
  "nbformat_minor": 0,
  "metadata": {
    "colab": {
      "name": "Exp17_201460.ipynb",
      "provenance": [],
      "collapsed_sections": []
    },
    "kernelspec": {
      "name": "python3",
      "display_name": "Python 3"
    },
    "language_info": {
      "name": "python"
    }
  },
  "cells": [
    {
      "cell_type": "markdown",
      "metadata": {
        "id": "V28OYqp9HDTB"
      },
      "source": [
        "201460\n",
        "Akash Kumar Singh\n",
        "CS 38"
      ]
    },
    {
      "cell_type": "markdown",
      "metadata": {
        "id": "Uxwl_7srHNdw"
      },
      "source": [
        "Write a Python Program for Binary Search."
      ]
    },
    {
      "cell_type": "code",
      "metadata": {
        "colab": {
          "base_uri": "https://localhost:8080/"
        },
        "id": "Vk3T7EUnHCFt",
        "outputId": "562e5390-5e13-4469-eb54-0302fd7f8f8a"
      },
      "source": [
        "def bin_search(list,item):\n",
        "  first=0\n",
        "  last=len(list)-1\n",
        "  result=False\n",
        "  while (first<=last and not result):\n",
        "    mid=(first+last)//2\n",
        "    if(list[mid])==item:\n",
        "      result=True\n",
        "    else:\n",
        "      if (list[mid]<item):\n",
        "        first=mid+1\n",
        "      else:\n",
        "        last=mid-1\n",
        "  return result\n",
        "\n",
        "a=[]\n",
        "n=int(input(\"Enter the number of elements:\"))\n",
        "print(\"Enter the elements:\")\n",
        "for i in range(n):\n",
        "  element=int(input())\n",
        "  a.append(element)\n",
        "\n",
        "a.sort()\n",
        "item=int(input(\"Enter the number to be searched:\"))\n",
        "print(bin_search(a,item))"
      ],
      "execution_count": 9,
      "outputs": [
        {
          "output_type": "stream",
          "name": "stdout",
          "text": [
            "Enter the number of elements:5\n",
            "Enter the elements:\n",
            "11\n",
            "99\n",
            "43\n",
            "22\n",
            "67\n",
            "Enter the number to be searched:43\n",
            "True\n"
          ]
        }
      ]
    }
  ]
}