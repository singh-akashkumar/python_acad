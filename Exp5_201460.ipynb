{
  "nbformat": 4,
  "nbformat_minor": 0,
  "metadata": {
    "colab": {
      "name": "Exp5_201460.ipynb",
      "provenance": [],
      "collapsed_sections": []
    },
    "kernelspec": {
      "name": "python3",
      "display_name": "Python 3"
    },
    "language_info": {
      "name": "python"
    }
  },
  "cells": [
    {
      "cell_type": "markdown",
      "metadata": {
        "id": "oVQOLB3Yg0e0"
      },
      "source": [
        "201460\n",
        "Akash Kumar Singh\n",
        "CS 38"
      ]
    },
    {
      "cell_type": "markdown",
      "metadata": {
        "id": "BJiKHoLngtoZ"
      },
      "source": [
        "Write a Python program to get the difference between a given number and 17, if the number is greater than 17 return double the absolute difference."
      ]
    },
    {
      "cell_type": "code",
      "metadata": {
        "colab": {
          "base_uri": "https://localhost:8080/"
        },
        "id": "Yui2JaEBgqwo",
        "outputId": "0f8ff97e-b326-483d-c645-634c4eff3a86"
      },
      "source": [
        "n=int(input('Enter the number:'))\n",
        "\n",
        "if n<=17:\n",
        "  print('The required answer is',17-n)\n",
        "else:\n",
        "  print('The required answer is',2*(n-17))"
      ],
      "execution_count": 6,
      "outputs": [
        {
          "output_type": "stream",
          "name": "stdout",
          "text": [
            "Enter the number:10\n",
            "The required answer is 7\n"
          ]
        }
      ]
    },
    {
      "cell_type": "markdown",
      "metadata": {
        "id": "g9ix7YQJhhon"
      },
      "source": [
        "Write a Python program to test whether a number is within 100 of 1000 or 2000."
      ]
    },
    {
      "cell_type": "code",
      "metadata": {
        "colab": {
          "base_uri": "https://localhost:8080/"
        },
        "id": "KRhqOhiEhlCH",
        "outputId": "70d00064-cf52-4735-e87b-049dd72962b5"
      },
      "source": [
        "n=int(input('Enter the number:'))\n",
        "\n",
        "if abs(1000-n)<=100:\n",
        "  print(\"The entered number is within 100 of 1000.\")\n",
        "elif abs(2000-n)<=100:\n",
        "  print(\"The entered number is within 100 of 2000.\")\n",
        "else:\n",
        "  print(\"The entered number is neither within 100 of 1000 nor within 100 of 2000.\")"
      ],
      "execution_count": 10,
      "outputs": [
        {
          "output_type": "stream",
          "name": "stdout",
          "text": [
            "Enter the number:1080\n",
            "The entered number is within 100 of 1000.\n"
          ]
        }
      ]
    },
    {
      "cell_type": "markdown",
      "metadata": {
        "id": "1j6FS0CjkZPp"
      },
      "source": [
        "Write a Python program to check whether a specified value is contained in a group of values. "
      ]
    },
    {
      "cell_type": "code",
      "metadata": {
        "colab": {
          "base_uri": "https://localhost:8080/"
        },
        "id": "k2JZXDlekdKs",
        "outputId": "302178a2-2299-4686-9f94-5613dbc62787"
      },
      "source": [
        "def check(list,str):\n",
        "  if str in list:\n",
        "    print('True')\n",
        "  else:\n",
        "    print('False')\n",
        "\n",
        "check([1,5,8,3],3)\n",
        "check([1,5,8,3],-1)"
      ],
      "execution_count": 11,
      "outputs": [
        {
          "output_type": "stream",
          "name": "stdout",
          "text": [
            "True\n",
            "False\n"
          ]
        }
      ]
    }
  ]
}