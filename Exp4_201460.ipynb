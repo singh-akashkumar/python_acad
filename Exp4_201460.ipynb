{
  "nbformat": 4,
  "nbformat_minor": 0,
  "metadata": {
    "colab": {
      "name": "Exp4_201460.ipynb",
      "provenance": [],
      "collapsed_sections": []
    },
    "kernelspec": {
      "name": "python3",
      "display_name": "Python 3"
    },
    "language_info": {
      "name": "python"
    }
  },
  "cells": [
    {
      "cell_type": "markdown",
      "metadata": {
        "id": "OBxS7mdV0vN0"
      },
      "source": [
        "Write a Python program to print the documents (syntax, description etc.) of Python built-in function(s)."
      ]
    },
    {
      "cell_type": "code",
      "metadata": {
        "colab": {
          "base_uri": "https://localhost:8080/"
        },
        "id": "OaJN8VSiz2Ns",
        "outputId": "ad2c1ddc-adee-4866-b9f5-c7c2d9d91b72"
      },
      "source": [
        "func=input(\"Enter the function:\")\n",
        "print(help(func))"
      ],
      "execution_count": null,
      "outputs": [
        {
          "output_type": "stream",
          "name": "stdout",
          "text": [
            "Enter the function:bin\n",
            "Help on package bin:\n",
            "\n",
            "NAME\n",
            "    bin\n",
            "\n",
            "PACKAGE CONTENTS\n",
            "    cythonize\n",
            "    load_reddit\n",
            "    theano_cache\n",
            "    train_word_vectors\n",
            "    ud (package)\n",
            "    wiki_entity_linking (package)\n",
            "\n",
            "FILE\n",
            "    /usr/local/lib/python3.7/dist-packages/bin/__init__.py\n",
            "\n",
            "\n",
            "None\n"
          ]
        }
      ]
    }
  ]
}